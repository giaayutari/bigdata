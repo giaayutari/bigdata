{
  "nbformat": 4,
  "nbformat_minor": 0,
  "metadata": {
    "colab": {
      "provenance": [],
      "authorship_tag": "ABX9TyOdQPoV71+dIeDgxdkIGOYx",
      "include_colab_link": true
    },
    "kernelspec": {
      "name": "python3",
      "display_name": "Python 3"
    },
    "language_info": {
      "name": "python"
    }
  },
  "cells": [
    {
      "cell_type": "markdown",
      "metadata": {
        "id": "view-in-github",
        "colab_type": "text"
      },
      "source": [
        "<a href=\"https://colab.research.google.com/github/giaayutari/bigdata/blob/main/scraping_pilpres2024.ipynb\" target=\"_parent\"><img src=\"https://colab.research.google.com/assets/colab-badge.svg\" alt=\"Open In Colab\"/></a>"
      ]
    },
    {
      "cell_type": "code",
      "execution_count": 1,
      "metadata": {
        "id": "EOw1EcITAGLy"
      },
      "outputs": [],
      "source": [
        "import urllib.request\n",
        "import pandas as pd\n",
        "\n",
        "url = \"https://id.wikipedia.org/wiki/Hasil_survei_pemilihan_umum_Presiden_Indonesia_2024\""
      ]
    },
    {
      "cell_type": "code",
      "source": [
        "with urllib.request.urlopen(url) as i:\n",
        "  html = i.read()"
      ],
      "metadata": {
        "id": "vhaCUoEkAZn8"
      },
      "execution_count": 2,
      "outputs": []
    },
    {
      "cell_type": "code",
      "source": [
        "data_1 = pd.read_html(html)[4]\n",
        "print(data_1.head())"
      ],
      "metadata": {
        "colab": {
          "base_uri": "https://localhost:8080/"
        },
        "id": "viW1czkaAf0a",
        "outputId": "a9b6aae0-3a49-437f-d159-a085086257c9"
      },
      "execution_count": 20,
      "outputs": [
        {
          "output_type": "stream",
          "name": "stdout",
          "text": [
            "                                       Sumber survei              Tanggal  \\\n",
            "                                       Sumber survei              Tanggal   \n",
            "0  Center for Strategic and International Studies...  8 - 13 Agustus 2022   \n",
            "1                    Spektrum Politika Institute[49]     5 - 17 Juli 2021   \n",
            "\n",
            "  Jumlah responden Batas kesalahan Unnamed: 4_level_0 Unnamed: 5_level_0  \n",
            "  Jumlah responden Batas kesalahan             Ganjar              Anies  \n",
            "0             1200           2.84%              43.9%              47.8%  \n",
            "1             1240           2.90%              34.7%              38.7%  \n"
          ]
        }
      ]
    },
    {
      "cell_type": "code",
      "source": [
        "#simpan file\n",
        "data_1.to_csv(\"hasil_survei_pilpres_2024.csv\")"
      ],
      "metadata": {
        "id": "XsLN4cI0Aonx"
      },
      "execution_count": 21,
      "outputs": []
    }
  ]
}